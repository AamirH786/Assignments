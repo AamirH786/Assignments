{
 "cells": [
  {
   "cell_type": "code",
   "execution_count": 1,
   "id": "99ba9eb5",
   "metadata": {},
   "outputs": [
    {
     "name": "stderr",
     "output_type": "stream",
     "text": [
      "No model was supplied, defaulted to distilbert-base-uncased-finetuned-sst-2-english and revision af0f99b (https://huggingface.co/distilbert-base-uncased-finetuned-sst-2-english).\n",
      "Using a pipeline without specifying a model name and revision in production is not recommended.\n"
     ]
    },
    {
     "name": "stdout",
     "output_type": "stream",
     "text": [
      "Global COVID-19 Cases: 690892828\n",
      "Global COVID-19 Deaths: 6895111\n",
      "Global COVID-19 Recovered: 663392185\n"
     ]
    },
    {
     "name": "stderr",
     "output_type": "stream",
     "text": [
      "Xformers is not installed correctly. If you want to use memorry_efficient_attention to accelerate training use the following command to install Xformers\n",
      "pip install xformers.\n"
     ]
    },
    {
     "name": "stdout",
     "output_type": "stream",
     "text": [
      "\n",
      "Sentiment Analysis Output:\n",
      "Text: COVID-19 is a global challenge, but we will overcome it together.\n",
      "Sentiment: POSITIVE\n"
     ]
    }
   ],
   "source": [
    "import requests\n",
    "from transformers import pipeline\n",
    "\n",
    "url = \"https://disease.sh/v3/covid-19/all\"\n",
    "\n",
    "try:\n",
    "    response = requests.get(url)\n",
    "    response.raise_for_status()\n",
    "\n",
    "    data = response.json()\n",
    "\n",
    "    # Extract KPIs from the data\n",
    "    global_cases = data['cases']\n",
    "    global_deaths = data['deaths']\n",
    "    global_recovered = data['recovered']\n",
    "\n",
    "    # Display the extracted KPIs\n",
    "    print(\"Global COVID-19 Cases:\", global_cases)\n",
    "    print(\"Global COVID-19 Deaths:\", global_deaths)\n",
    "    print(\"Global COVID-19 Recovered:\", global_recovered)\n",
    "\n",
    "    # Pass data through an ML model (Huggingface's sentiment analysis)\n",
    "    sentiment_analysis = pipeline(\"sentiment-analysis\")\n",
    "\n",
    "    # Analyze sentiment for a sample text\n",
    "    sample_text = \"COVID-19 is a global challenge, but we will overcome it together.\"\n",
    "    sentiment_output = sentiment_analysis(sample_text)\n",
    "\n",
    "    # Display the AI output\n",
    "    print(\"\\nSentiment Analysis Output:\")\n",
    "    print(\"Text:\", sample_text)\n",
    "    print(\"Sentiment:\", sentiment_output[0]['label'])\n",
    "\n",
    "except requests.exceptions.HTTPError as err:\n",
    "    print(\"HTTP Error occurred:\", err)\n",
    "except requests.exceptions.RequestException as err:\n",
    "    print(\"Error occurred:\", err)\n",
    "except ValueError as err:\n",
    "    print(\"Error decoding JSON:\", err)\n"
   ]
  },
  {
   "cell_type": "code",
   "execution_count": null,
   "id": "ca5d6f8b",
   "metadata": {},
   "outputs": [],
   "source": []
  },
  {
   "cell_type": "code",
   "execution_count": null,
   "id": "e48b0d61",
   "metadata": {},
   "outputs": [],
   "source": [
    "\"\"\"This program fetches global COVID-19 data from the \"https://disease.sh/v3/covid-19/all\" API endpoint. \n",
    "It extracts key performance indicators (KPIs) such as the total number of cases,\n",
    "deaths, and recoveries.\n",
    "Additionally, it performs sentiment analysis on a sample text related to COVID-19 using Huggingface's \n",
    "sentiment analysis model. The program provides the extracted KPIs and sentiment analysis output, \n",
    "demonstrating the current global COVID-19 situation and the sentiment associated with the given sample text.\"\"\""
   ]
  },
  {
   "cell_type": "code",
   "execution_count": null,
   "id": "3ecfc678",
   "metadata": {},
   "outputs": [],
   "source": []
  }
 ],
 "metadata": {
  "kernelspec": {
   "display_name": "Python 3 (ipykernel)",
   "language": "python",
   "name": "python3"
  },
  "language_info": {
   "codemirror_mode": {
    "name": "ipython",
    "version": 3
   },
   "file_extension": ".py",
   "mimetype": "text/x-python",
   "name": "python",
   "nbconvert_exporter": "python",
   "pygments_lexer": "ipython3",
   "version": "3.9.13"
  }
 },
 "nbformat": 4,
 "nbformat_minor": 5
}
